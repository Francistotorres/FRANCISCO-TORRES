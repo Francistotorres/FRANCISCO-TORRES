{
  "nbformat": 4,
  "nbformat_minor": 0,
  "metadata": {
    "colab": {
      "provenance": [],
      "authorship_tag": "ABX9TyMQ5fturk5gBmnpYVhGKSza",
      "include_colab_link": true
    },
    "kernelspec": {
      "name": "python3",
      "display_name": "Python 3"
    },
    "language_info": {
      "name": "python"
    }
  },
  "cells": [
    {
      "cell_type": "markdown",
      "metadata": {
        "id": "view-in-github",
        "colab_type": "text"
      },
      "source": [
        "<a href=\"https://colab.research.google.com/github/Francistotorres/FRANCISCO-TORRES/blob/main/Untitled4.ipynb\" target=\"_parent\"><img src=\"https://colab.research.google.com/assets/colab-badge.svg\" alt=\"Open In Colab\"/></a>"
      ]
    },
    {
      "cell_type": "code",
      "execution_count": 9,
      "metadata": {
        "colab": {
          "base_uri": "https://localhost:8080/"
        },
        "id": "Gg_lnK31OTCP",
        "outputId": "23b6412f-d096-4895-a0d6-1db0a00bd093"
      },
      "outputs": [
        {
          "output_type": "stream",
          "name": "stdout",
          "text": [
            "ingrese el numero de docenas9\n",
            "ingrese el percio por docenas78000\n",
            "subtotal $ 702000.0\n",
            "descuento $ 77220.0\n",
            "total: $ 624780.0\n"
          ]
        }
      ],
      "source": [
        "docenas = float(input(\"ingrese el numero de docenas\"))\n",
        "precio = float(input(\"ingrese el percio por docenas\"))\n",
        "\n",
        "subtotal = docenas * precio\n",
        "\n",
        "if  docenas >= 10:\n",
        "    descuento = subtotal * 0.15\n",
        "\n",
        "else :\n",
        "    descuento = subtotal * 0.11\n",
        "\n",
        "print(\"subtotal $\", subtotal)\n",
        "print(\"descuento $\", descuento)\n",
        "print(\"total: $\",(subtotal-descuento))\n"
      ]
    },
    {
      "cell_type": "code",
      "source": [],
      "metadata": {
        "id": "DFtcukhQSM_y"
      },
      "execution_count": 9,
      "outputs": []
    }
  ]
}