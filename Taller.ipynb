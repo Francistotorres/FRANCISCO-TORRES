{
  "nbformat": 4,
  "nbformat_minor": 0,
  "metadata": {
    "colab": {
      "provenance": [],
      "authorship_tag": "ABX9TyPtvs/UnW1VrrpiolbvqzpS",
      "include_colab_link": true
    },
    "kernelspec": {
      "name": "python3",
      "display_name": "Python 3"
    },
    "language_info": {
      "name": "python"
    }
  },
  "cells": [
    {
      "cell_type": "markdown",
      "metadata": {
        "id": "view-in-github",
        "colab_type": "text"
      },
      "source": [
        "<a href=\"https://colab.research.google.com/github/Francistotorres/FRANCISCO-TORRES/blob/main/Taller.ipynb\" target=\"_parent\"><img src=\"https://colab.research.google.com/assets/colab-badge.svg\" alt=\"Open In Colab\"/></a>"
      ]
    },
    {
      "cell_type": "markdown",
      "source": [
        "\n",
        "\n",
        "```\n",
        "# Tiene formato de código\n",
        "```\n",
        "\n",
        "# Introducción a Python\n",
        "# Curso de Programacion y algoritmia UPB 202320\n",
        "\n",
        "  - Nombre: Francisco Javier Torres\n",
        "\n",
        "  - ID: 503915\n",
        "\n",
        "  - Email: francisco.torres@upb.edu.co\n",
        "\n",
        "\n",
        "Esta es la expresión de la línea recta:\n",
        "\n",
        "$ $y = mx + b$ $\n",
        "\n",
        "donde $ x $ es la posición\n",
        "\n",
        "\n",
        "\n"
      ],
      "metadata": {
        "id": "Ga0wjpQwDH7n"
      }
    },
    {
      "cell_type": "code",
      "execution_count": 14,
      "metadata": {
        "id": "CZ_ovObfDHRW",
        "outputId": "475861ba-557a-45c1-9c58-a4aebb4af876",
        "colab": {
          "base_uri": "https://localhost:8080/"
        }
      },
      "outputs": [
        {
          "output_type": "stream",
          "name": "stdout",
          "text": [
            "hello, Francisco Javier\n"
          ]
        }
      ],
      "source": [
        "# comentarios\n",
        "\n",
        "# mis primeras líneas de código en Python\n",
        "\n",
        "name = \"Francisco Javier\"\n",
        "print(\"hello,\",name)\n",
        "\n",
        "\n",
        "\n"
      ]
    },
    {
      "cell_type": "code",
      "source": [
        "name = \"francisco javier\"\n",
        "age = \"19\"\n",
        "city = \"Monteria\"\n",
        "food = \"sopa de frijol\"\n",
        "print(\"mi nombre es\", name, \"tengo\", age, \"años de edad\",\"vivo en\", city, \"y me gusta la\", food)"
      ],
      "metadata": {
        "id": "zI2-Dapeq2Va",
        "outputId": "95fd2910-59c9-4e51-834c-97a6bfb2f900",
        "colab": {
          "base_uri": "https://localhost:8080/"
        }
      },
      "execution_count": 18,
      "outputs": [
        {
          "output_type": "stream",
          "name": "stdout",
          "text": [
            "mi nombre es francisco javier tengo 19 años de edad vivo en Monteria y me gusta la sopa de frijol\n"
          ]
        }
      ]
    },
    {
      "cell_type": "code",
      "source": [
        ""
      ],
      "metadata": {
        "id": "t8KyPpF0zJuQ"
      },
      "execution_count": null,
      "outputs": []
    }
  ]
}